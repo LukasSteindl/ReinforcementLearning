{
 "cells": [
  {
   "cell_type": "code",
   "execution_count": 2,
   "metadata": {},
   "outputs": [],
   "source": [
    " %matplotlib inline"
   ]
  },
  {
   "cell_type": "code",
   "execution_count": 3,
   "metadata": {},
   "outputs": [
    {
     "data": {
      "text/plain": [
       "<matplotlib.image.AxesImage at 0x2b54bc8cf48>"
      ]
     },
     "execution_count": 3,
     "metadata": {},
     "output_type": "execute_result"
    },
    {
     "data": {
      "image/png": "[encoded data removed]",
      "text/plain": [
       "<Figure size 432x288 with 1 Axes>"
      ]
     },
     "metadata": {
      "needs_background": "light"
     },
     "output_type": "display_data"
    }
   ],
   "source": [
    "import gym\n",
    "\n",
    "import matplotlib.pyplot as plt\n",
    "\n",
    "env = gym.make('MsPacman-v0')\n",
    "#env = gym.make('FrozenLake-v0')\n",
    "env.reset()\n",
    "bild = env.render(mode='rgb_array')\n",
    "plt.imshow(bild)"
   ]
  },
  {
   "cell_type": "code",
   "execution_count": 4,
   "metadata": {},
   "outputs": [
    {
     "name": "stdout",
     "output_type": "stream",
     "text": [
      "[[0.20201694 0.18743168 0.1875543  0.18737164]\n",
      " [0.05546597 0.13373163 0.12041653 0.17284794]\n",
      " [0.1531371  0.1579101  0.16166396 0.15862395]\n",
      " [0.07865653 0.07887143 0.04706744 0.14475755]\n",
      " [0.2456692  0.08937948 0.07966896 0.18766685]\n",
      " [0.         0.         0.         0.        ]\n",
      " [0.13817758 0.13472948 0.1153608  0.01663043]\n",
      " [0.         0.         0.         0.        ]\n",
      " [0.15958658 0.24558539 0.22755883 0.28699155]\n",
      " [0.16102806 0.34844722 0.41363039 0.3347045 ]\n",
      " [0.41902703 0.14794903 0.17083546 0.20515643]\n",
      " [0.         0.         0.         0.        ]\n",
      " [0.         0.         0.         0.        ]\n",
      " [0.27011933 0.33566322 0.4796686  0.28819608]\n",
      " [0.52810383 0.70058434 0.51111727 0.55485979]\n",
      " [0.         0.         0.         0.        ]]\n"
     ]
    }
   ],
   "source": [
    "import gym\n",
    "import numpy as np\n",
    "import random \n",
    "\n",
    "import matplotlib.pyplot as plt\n",
    "\n",
    "env = gym.make('FrozenLake-v0')\n",
    "Q = np.zeros([env.observation_space.n,env.action_space.n])\n",
    "EPISODES = 20000 \n",
    "LEARNING_RATE = 0.3\n",
    "DISCOUNT_FACTOR = 0.95 \n",
    "EPSILON = 0.2 \n",
    "\n",
    "\n",
    "\n",
    "\n",
    "def get_greedy(Q,s):\n",
    "        if random.uniform(0,1)<EPSILON:\n",
    "            return env.action_space.sample()\n",
    "        else:\n",
    "            return max(list(range(env.action_space.n)),key = lambda x: Q[s,x])\n",
    "        \n",
    "        \n",
    "for i in range(EPISODES):\n",
    "    s = env.reset()\n",
    "    done = False\n",
    "    while not done: \n",
    "            a = get_greedy(Q,s)\n",
    "            s_next,r,done,_ = env.step(a)\n",
    "            next_q = r + DISCOUNT_FACTOR *np.max(Q[s_next,:])\n",
    "            Q[s,a] = (1-LEARNING_RATE)*Q[s,a] + LEARNING_RATE * next_q\n",
    "            s = s_next\n",
    "print(Q)"
   ]
  },
  {
   "cell_type": "code",
   "execution_count": 4,
   "metadata": {},
   "outputs": [
    {
     "name": "stdout",
     "output_type": "stream",
     "text": [
      "0 [array([[0.00793909, 0.00803159, 0.00793658, 0.00786711]], dtype=float32)]\n",
      "1 [array([[0.00799664, 0.00687445, 0.0079689 , 0.00745642]], dtype=float32)]\n",
      "2 [array([[0.00646788, 0.00769114, 0.00363641, 0.00590493]], dtype=float32)]\n",
      "3 [array([[4.1092299e-03, 3.1560240e-03, 2.9468536e-06, 7.5178868e-03]],\n",
      "      dtype=float32)]\n",
      "4 [array([[0.00799213, 0.00651725, 0.00824136, 0.00764873]], dtype=float32)]\n",
      "5 [array([[0.00859919, 0.00211352, 0.00738665, 0.00132546]], dtype=float32)]\n",
      "6 [array([[0.00667146, 0.00690648, 0.00681102, 0.00494439]], dtype=float32)]\n",
      "7 [array([[0.0064079 , 0.00338289, 0.00618664, 0.00500928]], dtype=float32)]\n",
      "8 [array([[0.00856585, 0.0076665 , 0.00618916, 0.00660291]], dtype=float32)]\n",
      "9 [array([[0.00837633, 0.00550205, 0.00727667, 0.00754536]], dtype=float32)]\n",
      "10 [array([[0.00286961, 0.00238704, 0.00424644, 0.00514872]], dtype=float32)]\n",
      "11 [array([[1.2779736e-03, 2.2446788e-03, 1.3066291e-04, 3.4908055e-05]],\n",
      "      dtype=float32)]\n",
      "12 [array([[0.00068798, 0.00780089, 0.00897668, 0.00513552]], dtype=float32)]\n",
      "13 [array([[0.00247592, 0.00467874, 0.00794485, 0.0021378 ]], dtype=float32)]\n",
      "14 [array([[0.00360738, 0.0051497 , 0.00757197, 0.00770514]], dtype=float32)]\n",
      "15 [array([[0.00895659, 0.00596339, 0.00437705, 0.0026764 ]], dtype=float32)]\n"
     ]
    }
   ],
   "source": [
    "import tensorflow as tf\n",
    "import numpy as np\n",
    "import gym \n",
    "\n",
    "env = gym.make('FrozenLake-v0')\n",
    "input_s = tf.placeholder(tf.float32,shape=(1,16))\n",
    "w = tf.Variable(tf.random_uniform([16,4],0,0.01))\n",
    "output_Q = tf.matmul(input_s,w)\n",
    "predicted_action = tf.argmax(output_Q,1)\n",
    "next_Q = tf.placeholder(tf.float32,shape=(1,4))\n",
    "loss = tf.reduce_sum(tf.square(next_Q - output_Q))\n",
    "\n",
    "optimizer = tf.train.GradientDescentOptimizer(learning_rate=0.1)\n",
    "train = optimizer.minimize(loss)\n",
    "init = tf.global_variables_initializer()\n",
    "DISCOUNT_FACTOR = .99\n",
    "EPSILON = 0.1\n",
    "EPISODES = 200\n",
    "\n",
    "with tf.Session() as session: \n",
    "    session.run(init)\n",
    "    \n",
    "    for i in range(EPISODES):\n",
    "        s = env.reset()\n",
    "        done = False\n",
    "        while not done: \n",
    "            next_input = np.identity(16)[s:s+1]\n",
    "            #prognose der besten action a und der q werte\n",
    "            a, all_q = session.run([predicted_action, output_Q], feed_dict = {input_s:next_input})\n",
    "            \n",
    "            #zufällige action a mit gewisser wahrscheinlichkeit\n",
    "            if np.random.rand(1) < EPSILON:\n",
    "                a[0] = env.action_space.sample()\n",
    "            \n",
    "            #führe aktion aus (entweder die die das netzwerk sagt oder die die zufällig getroffen wurde)\n",
    "            s_next,r,done,_ = env.step(a[0])\n",
    "            next_input = np.identity(16)[s_next:s_next+1]\n",
    "            q_next = session.run(output_Q, feed_dict = {input_s:next_input})\n",
    "            \n",
    "            \n",
    "            max_q_next = np.max(q_next)  \n",
    "            target_q = all_q\n",
    "            target_q[0,a[0]] = r + DISCOUNT_FACTOR * max_q_next\n",
    "            \n",
    "            _,w1 = session.run([train,w],feed_dict ={input_s: np.identity(16)[s:s+1],next_Q:target_q})\n",
    "            s = s_next  \n",
    "    #Ergebnis\n",
    "    for i in range(16):\n",
    "        next_input = np.identity(16)[i:i + 1]\n",
    "        all_q = session.run([output_Q], feed_dict = {input_s:next_input})\n",
    "        print(i,all_q)\n",
    "\n",
    "            "
   ]
  },
  {
   "cell_type": "code",
   "execution_count": 7,
   "metadata": {},
   "outputs": [
    {
     "name": "stdout",
     "output_type": "stream",
     "text": [
      "[[0. 0. 1. 0. 0. 0. 0. 0. 0. 0. 0. 0. 0. 0. 0. 0.]]\n"
     ]
    }
   ],
   "source": [
    "import numpy as np\n",
    "print( np.identity(16)[2:3])"
   ]
  },
  {
   "cell_type": "code",
   "execution_count": 1,
   "metadata": {},
   "outputs": [],
   "source": [
    "# import gym\n",
    "# env = gym.make('CartPole-v0')\n",
    "# for i_episode in range(10):\n",
    "#     observation = env.reset()\n",
    "#     for t in range(100):\n",
    "#         env.render()\n",
    "#         print(observation)\n",
    "#         action = env.action_space.sample()\n",
    "#         observation, reward, done, info = env.step(action)\n",
    "#         if done:\n",
    "#             print(\"Episode finished after {} timesteps\".format(t+1))\n",
    "#             break\n",
    "# env.close()"
   ]
  },
  {
   "cell_type": "code",
   "execution_count": 3,
   "metadata": {},
   "outputs": [],
   "source": [
    " %matplotlib inline"
   ]
  },
  {
   "cell_type": "code",
   "execution_count": 4,
   "metadata": {},
   "outputs": [
    {
     "data": {
      "text/plain": [
       "<matplotlib.image.AxesImage at 0x1bfa910cbc8>"
      ]
     },
     "execution_count": 4,
     "metadata": {},
     "output_type": "execute_result"
    },
    {
     "data": {
      "image/png": "[encoded data removed]",
      "text/plain": [
       "<Figure size 432x288 with 1 Axes>"
      ]
     },
     "metadata": {
      "needs_background": "light"
     },
     "output_type": "display_data"
    }
   ],
   "source": [
    "import gym\n",
    "import matplotlib.pyplot as plt\n",
    "\n",
    "env = gym.make('MsPacman-v0')\n",
    "env.reset()\n",
    "\n",
    "bild = env.render(mode='rgb_array')\n",
    "plt.imshow(bild)\n",
    "\n",
    "# done = False\n",
    "# while not done:\n",
    "#     env.render()\n",
    "#     bild = env.render(mode='rgb_array')\n",
    "#     s = env.action_space.sample()\n",
    "#     s,r,done,info = env.step(a)"
   ]
  },
  {
   "cell_type": "code",
   "execution_count": null,
   "metadata": {},
   "outputs": [],
   "source": []
  }
 ],
 "metadata": {
  "kernelspec": {
   "display_name": "Python ReinformcementLearning",
   "language": "python",
   "name": "rl"
  },
  "language_info": {
   "codemirror_mode": {
    "name": "ipython",
    "version": 3
   },
   "file_extension": ".py",
   "mimetype": "text/x-python",
   "name": "python",
   "nbconvert_exporter": "python",
   "pygments_lexer": "ipython3",
   "version": "3.7.4"
  }
 },
 "nbformat": 4,
 "nbformat_minor": 4
}
